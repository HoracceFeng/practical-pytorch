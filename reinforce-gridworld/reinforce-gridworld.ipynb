{
 "cells": [
  {
   "cell_type": "markdown",
   "metadata": {},
   "source": [
    "![](https://i.imgur.com/eBRPvWB.png)\n",
    "\n",
    "# Practical PyTorch: Playing GridWorld with Reinforcement Learning (Policy Gradients with REINFORCE)\n",
    "\n",
    "In this project we'll teach a neural network to navigate through a dangerous grid world.\n",
    "\n",
    "![](http://i.imgur.com/XNGB7sr.gif)\n",
    "\n",
    "Training uses [policy gradients](http://www.scholarpedia.org/article/Policy_gradient_methods) via the REINFORCE algorithm and a simplified Actor-Critic method. A single network calculates both a policy to choose the next action (the actor) and an estimated value of the current state (the critic). Rewards are propagated through the graph with PyTorch's [`reinforce` method](http://pytorch.org/docs/autograd.html?highlight=reinforce#torch.autograd.Variable.reinforce)."
   ]
  },
  {
   "cell_type": "markdown",
   "metadata": {},
   "source": [
    "## Resources\n",
    "\n",
    "* [*The* Reinforcement learning book from Sutton & Barto](http://incompleteideas.net/sutton/book/the-book-2nd.html)\n",
    "* [The REINFORCE paper from Ronald J. Williams (1992)](http://www-anw.cs.umass.edu/~barto/courses/cs687/williams92simple.pdf)\n",
    "* [Scholarpedia article on policy gradient methods](http://www.scholarpedia.org/article/Policy_gradient_methods)\n",
    "* [A Lecture from David Silver (of UCL, DeepMind) on policy gradients](http://www0.cs.ucl.ac.uk/staff/d.silver/web/Teaching_files/pg.pdf)\n",
    "* [The REINFORCE PyTorch example this tutorial is based on](https://github.com/pytorch/examples/tree/master/reinforcement_learning)\n"
   ]
  },
  {
   "cell_type": "markdown",
   "metadata": {},
   "source": [
    "## Requirements\n",
    "\n",
    "The main requirements are PyTorch (of course), and numpy, matplotlib, and iPython for animating the states."
   ]
  },
  {
   "cell_type": "code",
   "execution_count": 39,
   "metadata": {},
   "outputs": [
    {
     "name": "stdout",
     "output_type": "stream",
     "text": [
      "Populating the interactive namespace from numpy and matplotlib\n"
     ]
    }
   ],
   "source": [
    "import matplotlib.mlab as mlab\n",
    "import matplotlib.pyplot as plt\n",
    "import matplotlib.animation\n",
    "from IPython.display import HTML\n",
    "%pylab inline\n",
    "\n",
    "import numpy as np\n",
    "from itertools import count\n",
    "import random\n",
    "\n",
    "import torch\n",
    "import torch.nn as nn\n",
    "import torch.nn.functional as F\n",
    "import torch.optim as optim\n",
    "import torch.autograd as autograd\n",
    "from torch.autograd import Variable\n",
    "\n",
    "from helpers import *"
   ]
  },
  {
   "cell_type": "markdown",
   "metadata": {},
   "source": [
    "## The Grid World, Agent and Environment\n",
    "\n",
    "First we'll build the training environment, which is a simple square grid world with various rewards and a goal. If you're just interested in the training code, skip down to [building the actor-critic network](#Actor-Critic-network)"
   ]
  },
  {
   "cell_type": "markdown",
   "metadata": {},
   "source": [
    "### The Grid\n",
    "\n",
    "The **Grid** class keeps track of the grid world: a 2d array of empty squares, plants, and the goal.\n",
    "\n",
    "![](https://i.imgur.com/kss8W95.png)\n",
    "\n",
    "Plants are randomly placed values from -1 to 0.5 (mostly poisonous) and if the agent lands on one, that value is added to the agent's health. The agent's goal is to reach the goal square, placed in one of the corners. As the agent moves around it gradually loses health so it has to move with purpose.\n",
    "\n",
    "The agent can see a surrounding area `VISIBLE_RADIUS` squares out from its position, so the edges of the grid are padded by that much with negative values. If the agent \"falls off the edge\" it dies instantly."
   ]
  },
  {
   "cell_type": "code",
   "execution_count": 40,
   "metadata": {
    "collapsed": true
   },
   "outputs": [],
   "source": [
    "MIN_PLANT_VALUE = -1\n",
    "MAX_PLANT_VALUE = 0.5\n",
    "GOAL_VALUE = 10\n",
    "EDGE_VALUE = -10\n",
    "VISIBLE_RADIUS = 1\n",
    "\n",
    "class Grid():\n",
    "    def __init__(self, grid_size=8, n_plants=15):\n",
    "        self.grid_size = grid_size\n",
    "        self.n_plants = n_plants\n",
    "        \n",
    "    def reset(self):\n",
    "        padded_size = self.grid_size + 2 * VISIBLE_RADIUS\n",
    "        self.grid = np.zeros((padded_size, padded_size)) # Padding for edges\n",
    "        \n",
    "        # Edges\n",
    "        self.grid[0:VISIBLE_RADIUS, :] = EDGE_VALUE\n",
    "        self.grid[-1*VISIBLE_RADIUS:, :] = EDGE_VALUE\n",
    "        self.grid[:, 0:VISIBLE_RADIUS] = EDGE_VALUE\n",
    "        self.grid[:, -1*VISIBLE_RADIUS:] = EDGE_VALUE\n",
    "        \n",
    "        # Randomly placed plants\n",
    "        for i in range(self.n_plants):\n",
    "            plant_value = random.random() * (MAX_PLANT_VALUE - MIN_PLANT_VALUE) + MIN_PLANT_VALUE\n",
    "            ry = random.randint(0, self.grid_size-1) + VISIBLE_RADIUS\n",
    "            rx = random.randint(0, self.grid_size-1) + VISIBLE_RADIUS\n",
    "            self.grid[ry, rx] = plant_value\n",
    " \n",
    "        # Goal in one of the corners\n",
    "        S = VISIBLE_RADIUS\n",
    "        E = self.grid_size + VISIBLE_RADIUS - 1\n",
    "        gps = [(E, E), (S, E), (E, S), (S, S)]\n",
    "        gp = gps[random.randint(0, len(gps)-1)]\n",
    "        self.grid[gp] = GOAL_VALUE\n",
    "    \n",
    "    def visible(self, pos):\n",
    "        y, x = pos\n",
    "        return self.grid[y-VISIBLE_RADIUS:y+VISIBLE_RADIUS+1, x-VISIBLE_RADIUS:x+VISIBLE_RADIUS+1]"
   ]
  },
  {
   "cell_type": "markdown",
   "metadata": {},
   "source": [
    "### The Agent\n",
    "\n",
    "The **Agent** has a current position and a health. All this class does is update the position based on an action (up, right, down or left) and decrement a small `STEP_VALUE` at every time step, so that it eventually starves if it doesn't reach the goal.\n",
    "\n",
    "The world based effects on the agent's health are handled by the Environment below."
   ]
  },
  {
   "cell_type": "code",
   "execution_count": 41,
   "metadata": {},
   "outputs": [
    {
     "ename": "SyntaxError",
     "evalue": "can't assign to function call (<ipython-input-41-8e2bb91f54ba>, line 10)",
     "output_type": "error",
     "traceback": [
      "\u001b[0;36m  File \u001b[0;32m\"<ipython-input-41-8e2bb91f54ba>\"\u001b[0;36m, line \u001b[0;32m10\u001b[0m\n\u001b[0;31m    int(y), int(x) = self.pos\u001b[0m\n\u001b[0;31mSyntaxError\u001b[0m\u001b[0;31m:\u001b[0m can't assign to function call\n"
     ]
    }
   ],
   "source": [
    "START_HEALTH = 1\n",
    "STEP_VALUE = -0.02\n",
    "\n",
    "class Agent:\n",
    "    def reset(self):\n",
    "        self.health = START_HEALTH\n",
    "\n",
    "    def act(self, action):\n",
    "        # Move according to action: 0=UP, 1=RIGHT, 2=DOWN, 3=LEFT\n",
    "        y, x = self.pos\n",
    "        if action == 0: y -= 1\n",
    "        elif action == 1: x += 1\n",
    "        elif action == 2: y += 1\n",
    "        elif action == 3: x -= 1\n",
    "        self.pos = (int(y), int(x))\n",
    "        self.health += STEP_VALUE # Gradually getting hungrier"
   ]
  },
  {
   "cell_type": "markdown",
   "metadata": {},
   "source": [
    "### The Environment\n",
    "\n",
    "The **Environment** encapsulates the Grid and Agent, and handles the bulk of the logic of assigning rewards when the agent acts. If an agent lands on a plant or goal or edge, its health is updated accordingly. Plants are removed from the grid (set to 0) when \"eaten\" by the agent. Every time step there is also a slight negative health penalty so that the agent must keep finding plants or reach the goal to survive.\n",
    "\n",
    "The Environment's main function is `step(action)` &rarr; `(state, reward, done)`, which updates the world state with a chosen action and returns the resulting state, and also returns a reward and whether the episode is done. The state it returns is what the agent will use to make its action predictions, which in this case is the visible grid area (flattened into one dimension) and the current agent health (to give it some \"self awareness\").\n",
    "\n",
    "The episode is considered done if won or lost - won if the agent reaches the goal (`agent.health >= GOAL_VALUE`) and lost if the agent dies from falling off the edge, eating too many poisonous plants, or getting too hungry (`agent.health <= 0`).\n",
    "\n",
    "In this experiment the environment only returns a single reward at the end of the episode (to make it more challenging). Values from plants and the step penalty are implicit - they might cause the agent to live longer or die sooner, but they aren't included in the final reward.\n",
    "\n",
    "The Environment also keeps track of the grid and agent states for each step of an episode, for visualization."
   ]
  },
  {
   "cell_type": "code",
   "execution_count": 36,
   "metadata": {
    "collapsed": true
   },
   "outputs": [],
   "source": [
    "class Environment:\n",
    "    def __init__(self):\n",
    "        self.grid = Grid()\n",
    "        self.agent = Agent()\n",
    "\n",
    "    def reset(self):\n",
    "        \"\"\"Start a new episode by resetting grid and agent\"\"\"\n",
    "        self.grid.reset()\n",
    "        self.agent.reset()\n",
    "        c = math.floor(self.grid.grid_size / 2)\n",
    "        self.agent.pos = (c, c)\n",
    "        \n",
    "        self.t = 0\n",
    "        self.history = []\n",
    "        self.record_step()\n",
    "        \n",
    "        return self.visible_state\n",
    "\n",
    "    def record_step(self):\n",
    "        \"\"\"Add the current state to history for display later\"\"\"\n",
    "        grid = np.array(self.grid.grid)\n",
    "        print self.agent.pos\n",
    "        print self.agent.health\n",
    "        \n",
    "        grid[self.agent.pos] = int(self.agent.health) * 0.5 # Agent marker faded by health\n",
    "        visible = np.array(self.grid.visible(self.agent.pos))\n",
    "        self.history.append((grid, visible, self.agent.health))\n",
    "        \n",
    "    @property\n",
    "    def visible_state(self):\n",
    "        \"\"\"Return the visible area surrounding the agent, and current agent health\"\"\"\n",
    "        visible = self.grid.visible(self.agent.pos)\n",
    "        y, x = self.agent.pos\n",
    "        yp = (y - VISIBLE_RADIUS) / self.grid.grid_size\n",
    "        xp = (x - VISIBLE_RADIUS) / self.grid.grid_size\n",
    "        extras = [self.agent.health, yp, xp]\n",
    "        return np.concatenate((visible.flatten(), extras), 0)\n",
    "    \n",
    "    def step(self, action):\n",
    "        \"\"\"Update state (grid and agent) based on an action\"\"\"\n",
    "        self.agent.act(action)\n",
    "        \n",
    "        # Get reward from where agent landed, add to agent health\n",
    "        value = self.grid.grid[self.agent.pos]\n",
    "        self.grid.grid[self.agent.pos] = 0\n",
    "        self.agent.health += value\n",
    "        \n",
    "        # Check if agent won (reached the goal) or lost (health reached 0)    \n",
    "    def record_step(self):\n",
    "        \"\"\"Add the current state to history for display later\"\"\"\n",
    "        grid = np.array(self.grid.grid)\n",
    "        grid[self.agent.pos] = self.agent.health * 0.5 # Agent marker faded by health\n",
    "        visible = np.array(self.grid.visible(self.agent.pos))\n",
    "        self.history.append((grid, visible, self.agent.health))\n",
    "        won = value == GOAL_VALUE\n",
    "        lost = self.agent.health <= 0\n",
    "        done = won or lost\n",
    "        \n",
    "        # Rewards at end of episode\n",
    "        if won:\n",
    "            reward = 1\n",
    "        elif lost:\n",
    "            reward = -1\n",
    "        else:\n",
    "            reward = 0 # Reward will only come at the end\n",
    "\n",
    "        # Save in history\n",
    "        self.record_step()\n",
    "        \n",
    "        return self.visible_state, reward, done"
   ]
  },
  {
   "cell_type": "markdown",
   "metadata": {},
   "source": [
    "### Visualizing History\n",
    "\n",
    "To visualize an episode the `animate(history)` function uses Matplotlib to plot the grid state and agent health over time, and turn the resulting frames into a GIF."
   ]
  },
  {
   "cell_type": "code",
   "execution_count": 37,
   "metadata": {
    "collapsed": true
   },
   "outputs": [],
   "source": [
    "def animate(history):\n",
    "    frames = len(history)\n",
    "    print(\"Rendering %d frames...\" % frames)\n",
    "    fig = plt.figure(figsize=(6, 2))\n",
    "    fig_grid = fig.add_subplot(121)\n",
    "    fig_health = fig.add_subplot(243)\n",
    "    fig_visible = fig.add_subplot(244)\n",
    "    fig_health.set_autoscale_on(False)\n",
    "    health_plot = np.zeros((frames, 1))\n",
    "\n",
    "    def render_frame(i):\n",
    "        grid, visible, health = history[i]\n",
    "        # Render grid\n",
    "        fig_grid.matshow(grid, vmin=-1, vmax=1, cmap='jet')\n",
    "        fig_visible.matshow(visible, vmin=-1, vmax=1, cmap='jet')\n",
    "        # Render health chart\n",
    "        health_plot[i] = health\n",
    "        fig_health.clear()\n",
    "        fig_health.axis([0, frames, 0, 2])\n",
    "        fig_health.plot(health_plot[:i + 1])\n",
    "\n",
    "    anim = matplotlib.animation.FuncAnimation(\n",
    "        fig, render_frame, frames=frames, interval=100\n",
    "    )\n",
    "\n",
    "    plt.close()\n",
    "    display(HTML(anim.to_html5_video()))"
   ]
  },
  {
   "cell_type": "markdown",
   "metadata": {},
   "source": [
    "### Testing the Environment\n",
    "\n",
    "Let's test what we have so far with a quick simulation:"
   ]
  },
  {
   "cell_type": "code",
   "execution_count": 38,
   "metadata": {},
   "outputs": [
    {
     "ename": "IndexError",
     "evalue": "only integers, slices (`:`), ellipsis (`...`), numpy.newaxis (`None`) and integer or boolean arrays are valid indices",
     "output_type": "error",
     "traceback": [
      "\u001b[0;31m---------------------------------------------------------------------------\u001b[0m",
      "\u001b[0;31mIndexError\u001b[0m                                Traceback (most recent call last)",
      "\u001b[0;32m<ipython-input-38-17b9c3497d5b>\u001b[0m in \u001b[0;36m<module>\u001b[0;34m()\u001b[0m\n\u001b[1;32m      1\u001b[0m \u001b[0menv\u001b[0m \u001b[0;34m=\u001b[0m \u001b[0mEnvironment\u001b[0m\u001b[0;34m(\u001b[0m\u001b[0;34m)\u001b[0m\u001b[0;34m\u001b[0m\u001b[0m\n\u001b[0;32m----> 2\u001b[0;31m \u001b[0menv\u001b[0m\u001b[0;34m.\u001b[0m\u001b[0mreset\u001b[0m\u001b[0;34m(\u001b[0m\u001b[0;34m)\u001b[0m\u001b[0;34m\u001b[0m\u001b[0m\n\u001b[0m\u001b[1;32m      3\u001b[0m \u001b[0;32mprint\u001b[0m\u001b[0;34m(\u001b[0m\u001b[0menv\u001b[0m\u001b[0;34m.\u001b[0m\u001b[0mvisible_state\u001b[0m\u001b[0;34m)\u001b[0m\u001b[0;34m\u001b[0m\u001b[0m\n\u001b[1;32m      4\u001b[0m \u001b[0;34m\u001b[0m\u001b[0m\n\u001b[1;32m      5\u001b[0m \u001b[0mdone\u001b[0m \u001b[0;34m=\u001b[0m \u001b[0mFalse\u001b[0m\u001b[0;34m\u001b[0m\u001b[0m\n",
      "\u001b[0;32m<ipython-input-36-7bc66e9fcbe7>\u001b[0m in \u001b[0;36mreset\u001b[0;34m(self)\u001b[0m\n\u001b[1;32m     13\u001b[0m         \u001b[0mself\u001b[0m\u001b[0;34m.\u001b[0m\u001b[0mt\u001b[0m \u001b[0;34m=\u001b[0m \u001b[0;36m0\u001b[0m\u001b[0;34m\u001b[0m\u001b[0m\n\u001b[1;32m     14\u001b[0m         \u001b[0mself\u001b[0m\u001b[0;34m.\u001b[0m\u001b[0mhistory\u001b[0m \u001b[0;34m=\u001b[0m \u001b[0;34m[\u001b[0m\u001b[0;34m]\u001b[0m\u001b[0;34m\u001b[0m\u001b[0m\n\u001b[0;32m---> 15\u001b[0;31m         \u001b[0mself\u001b[0m\u001b[0;34m.\u001b[0m\u001b[0mrecord_step\u001b[0m\u001b[0;34m(\u001b[0m\u001b[0;34m)\u001b[0m\u001b[0;34m\u001b[0m\u001b[0m\n\u001b[0m\u001b[1;32m     16\u001b[0m \u001b[0;34m\u001b[0m\u001b[0m\n\u001b[1;32m     17\u001b[0m         \u001b[0;32mreturn\u001b[0m \u001b[0mself\u001b[0m\u001b[0;34m.\u001b[0m\u001b[0mvisible_state\u001b[0m\u001b[0;34m\u001b[0m\u001b[0m\n",
      "\u001b[0;32m<ipython-input-36-7bc66e9fcbe7>\u001b[0m in \u001b[0;36mrecord_step\u001b[0;34m(self)\u001b[0m\n\u001b[1;32m     50\u001b[0m         \u001b[0;34m\"\"\"Add the current state to history for display later\"\"\"\u001b[0m\u001b[0;34m\u001b[0m\u001b[0m\n\u001b[1;32m     51\u001b[0m         \u001b[0mgrid\u001b[0m \u001b[0;34m=\u001b[0m \u001b[0mnp\u001b[0m\u001b[0;34m.\u001b[0m\u001b[0marray\u001b[0m\u001b[0;34m(\u001b[0m\u001b[0mself\u001b[0m\u001b[0;34m.\u001b[0m\u001b[0mgrid\u001b[0m\u001b[0;34m.\u001b[0m\u001b[0mgrid\u001b[0m\u001b[0;34m)\u001b[0m\u001b[0;34m\u001b[0m\u001b[0m\n\u001b[0;32m---> 52\u001b[0;31m         \u001b[0mgrid\u001b[0m\u001b[0;34m[\u001b[0m\u001b[0mself\u001b[0m\u001b[0;34m.\u001b[0m\u001b[0magent\u001b[0m\u001b[0;34m.\u001b[0m\u001b[0mpos\u001b[0m\u001b[0;34m]\u001b[0m \u001b[0;34m=\u001b[0m \u001b[0mself\u001b[0m\u001b[0;34m.\u001b[0m\u001b[0magent\u001b[0m\u001b[0;34m.\u001b[0m\u001b[0mhealth\u001b[0m \u001b[0;34m*\u001b[0m \u001b[0;36m0.5\u001b[0m \u001b[0;31m# Agent marker faded by health\u001b[0m\u001b[0;34m\u001b[0m\u001b[0m\n\u001b[0m\u001b[1;32m     53\u001b[0m         \u001b[0mvisible\u001b[0m \u001b[0;34m=\u001b[0m \u001b[0mnp\u001b[0m\u001b[0;34m.\u001b[0m\u001b[0marray\u001b[0m\u001b[0;34m(\u001b[0m\u001b[0mself\u001b[0m\u001b[0;34m.\u001b[0m\u001b[0mgrid\u001b[0m\u001b[0;34m.\u001b[0m\u001b[0mvisible\u001b[0m\u001b[0;34m(\u001b[0m\u001b[0mself\u001b[0m\u001b[0;34m.\u001b[0m\u001b[0magent\u001b[0m\u001b[0;34m.\u001b[0m\u001b[0mpos\u001b[0m\u001b[0;34m)\u001b[0m\u001b[0;34m)\u001b[0m\u001b[0;34m\u001b[0m\u001b[0m\n\u001b[1;32m     54\u001b[0m         \u001b[0mself\u001b[0m\u001b[0;34m.\u001b[0m\u001b[0mhistory\u001b[0m\u001b[0;34m.\u001b[0m\u001b[0mappend\u001b[0m\u001b[0;34m(\u001b[0m\u001b[0;34m(\u001b[0m\u001b[0mgrid\u001b[0m\u001b[0;34m,\u001b[0m \u001b[0mvisible\u001b[0m\u001b[0;34m,\u001b[0m \u001b[0mself\u001b[0m\u001b[0;34m.\u001b[0m\u001b[0magent\u001b[0m\u001b[0;34m.\u001b[0m\u001b[0mhealth\u001b[0m\u001b[0;34m)\u001b[0m\u001b[0;34m)\u001b[0m\u001b[0;34m\u001b[0m\u001b[0m\n",
      "\u001b[0;31mIndexError\u001b[0m: only integers, slices (`:`), ellipsis (`...`), numpy.newaxis (`None`) and integer or boolean arrays are valid indices"
     ]
    }
   ],
   "source": [
    "env = Environment()\n",
    "env.reset()\n",
    "print(env.visible_state)\n",
    "\n",
    "done = False\n",
    "while not done:\n",
    "    _, _, done = env.step(2) # Down\n",
    "\n",
    "animate(env.history)"
   ]
  },
  {
   "cell_type": "markdown",
   "metadata": {},
   "source": [
    "## Actor-Critic network\n",
    "\n",
    "Value-based reinforcement learning methods like Q-Learning try to predict the expected reward of the next state(s) given an action. In contrast, a policy method tries to directly choose the best action given a state. Policy methods are conceptually simpler but training can be tricky - due to the high variance of rewards, it can easily become unstable or just plateau at a local minimum.\n",
    "\n",
    "Combining a value estimation with the policy helps regularize training by establishing a \"baseline\" reward that learns alongside the actor. Subtracting a baseline value from the rewards essentially trains the actor to perform \"better than expected\".\n",
    "\n",
    "In this case, both actor and critic (baseline) are combined into a single neural network with 5 outputs: the probabilities of the 4 possible actions, and an estimated value.\n",
    "\n",
    "The input layer `inp` transforms the environment state, $(radius*2+1)^2$ squares plus the agent's health and position,  into an internal state. The output layer `out` transforms that internal state to probabilities of possible actions plus the estimated value."
   ]
  },
  {
   "cell_type": "code",
   "execution_count": 16,
   "metadata": {
    "collapsed": true
   },
   "outputs": [],
   "source": [
    "class Policy(nn.Module):\n",
    "    def __init__(self, hidden_size):\n",
    "        super(Policy, self).__init__()\n",
    "        \n",
    "        visible_squares = (VISIBLE_RADIUS * 2 + 1) ** 2\n",
    "        input_size = visible_squares + 1 + 2 # Plus agent health, y, x\n",
    "        \n",
    "        self.inp = nn.Linear(input_size, hidden_size)\n",
    "        self.out = nn.Linear(hidden_size, 4 + 1, bias=False) # For both action and expected value\n",
    "\n",
    "    def forward(self, x):\n",
    "        x = x.view(1, -1)\n",
    "        x = F.tanh(x) # Squash inputs\n",
    "        x = F.relu(self.inp(x))\n",
    "        x = self.out(x)\n",
    "        \n",
    "        # Split last five outputs into scores and value\n",
    "        scores = x[:,:4]\n",
    "        value = x[:,4]\n",
    "        return scores, value"
   ]
  },
  {
   "cell_type": "markdown",
   "metadata": {},
   "source": [
    "## Selecting actions\n",
    "\n",
    "To select actions we treat the output of the policy as a multinomial distribution over actions, and sample from that to choose a single action. Thanks to the [REINFORCE](https://webdocs.cs.ualberta.ca/~sutton/williams-92.pdf) algorithm we can calculate gradients for discrete action samples by calling `action.reinforce(reward)` at the end of the episode.\n",
    "\n",
    "To encourage exploration in early episodes, here's one weird trick: apply dropout to the action scores, before softmax. Randomly masking some scores will cause less likely scores to be chosen. The dropout percent gradually decreases from 30% to 5% over the first 200k episodes."
   ]
  },
  {
   "cell_type": "code",
   "execution_count": 17,
   "metadata": {
    "collapsed": true
   },
   "outputs": [],
   "source": [
    "DROP_MAX = 0.3\n",
    "DROP_MIN = 0.05\n",
    "DROP_OVER = 200000\n",
    "\n",
    "def select_action(e, state):\n",
    "    drop = interpolate(e, DROP_MAX, DROP_MIN, DROP_OVER)\n",
    "    \n",
    "    state = Variable(torch.from_numpy(state).float())\n",
    "    scores, value = policy(state) # Forward state through network\n",
    "    scores = F.dropout(scores, drop, True) # Dropout for exploration\n",
    "    scores = F.softmax(scores)\n",
    "    action = scores.multinomial() # Sample an action\n",
    "\n",
    "    return action, value"
   ]
  },
  {
   "cell_type": "markdown",
   "metadata": {},
   "source": [
    "## Playing through an episode\n",
    "\n",
    "A single episode is the agent moving through the environment from start to finish. We keep track of the chosen action and value outputs from the model, and resulting rewards to reinforce at the end of the episode."
   ]
  },
  {
   "cell_type": "code",
   "execution_count": 18,
   "metadata": {
    "collapsed": true
   },
   "outputs": [],
   "source": [
    "def run_episode(e):\n",
    "    state = env.reset()\n",
    "    actions = []\n",
    "    values = []\n",
    "    rewards = []\n",
    "    done = False\n",
    "\n",
    "    while not done:\n",
    "        action, value = select_action(e, state)\n",
    "        state, reward, done = env.step(action.data[0, 0])\n",
    "        actions.append(action)\n",
    "        values.append(value)\n",
    "        rewards.append(reward)\n",
    "\n",
    "    return actions, values, rewards"
   ]
  },
  {
   "cell_type": "markdown",
   "metadata": {},
   "source": [
    "## Using REINFORCE with a value baseline\n",
    "\n",
    "The policy gradient method is similar to regular supervised learning, except we don't know the \"correct\" action for any given state. Plus we are only getting a single reward at the end of the episode. To give rewards to past actions we fake history by copying the final reward (and possibly intermediate rewards) back in time with a discount factor:\n",
    "\n",
    "![](https://i.imgur.com/IoXMuCb.png)\n",
    "\n",
    "Then for every time step, we use `action.reinforce(reward)` to encourage or discourage those actions.\n",
    "\n",
    "We will use the value output of the network as a baseline, and use the difference of the reward and the baseline with `reinforce`. The value estimate itself is trained to be close to the actual reward with a MSE loss."
   ]
  },
  {
   "cell_type": "code",
   "execution_count": 19,
   "metadata": {
    "collapsed": true
   },
   "outputs": [],
   "source": [
    "gamma = 0.9 # Discounted reward factor\n",
    "\n",
    "mse = nn.MSELoss()\n",
    "\n",
    "def finish_episode(e, actions, values, rewards):\n",
    "    \n",
    "    # Calculate discounted rewards, going backwards from end\n",
    "    discounted_rewards = []\n",
    "    R = 0\n",
    "    for r in rewards[::-1]:\n",
    "        R = r + gamma * R\n",
    "        discounted_rewards.insert(0, R)\n",
    "    discounted_rewards = torch.Tensor(discounted_rewards)\n",
    "\n",
    "    # Use REINFORCE on chosen actions and associated discounted rewards\n",
    "    value_loss = 0\n",
    "    for action, value, reward in zip(actions, values, discounted_rewards):\n",
    "        reward_diff = reward - value.data[0] # Treat critic value as baseline\n",
    "        action.reinforce(reward_diff) # Try to perform better than baseline\n",
    "        value_loss += mse(value, Variable(torch.Tensor([reward]))) # Compare with actual reward\n",
    "\n",
    "    # Backpropagate\n",
    "    optimizer.zero_grad()\n",
    "    nodes = [value_loss] + actions\n",
    "    gradients = [torch.ones(1)] + [None for _ in actions] # No gradients for reinforced values\n",
    "    autograd.backward(nodes, gradients)\n",
    "    optimizer.step()\n",
    "    \n",
    "    return discounted_rewards, value_loss"
   ]
  },
  {
   "cell_type": "markdown",
   "metadata": {},
   "source": [
    "With everything in place we can define the training parameters and create the actual Environment and Policy instances. We'll also use a SlidingAverage helper to keep track of average rewards over time."
   ]
  },
  {
   "cell_type": "code",
   "execution_count": 20,
   "metadata": {
    "collapsed": true
   },
   "outputs": [],
   "source": [
    "hidden_size = 50\n",
    "learning_rate = 1e-4\n",
    "weight_decay = 1e-5\n",
    "\n",
    "log_every = 1000\n",
    "render_every = 20000\n",
    "\n",
    "env = Environment()\n",
    "policy = Policy(hidden_size=hidden_size)\n",
    "optimizer = optim.Adam(policy.parameters(), lr=learning_rate)#, weight_decay=weight_decay)\n",
    "\n",
    "reward_avg = SlidingAverage('reward avg', steps=log_every)\n",
    "value_avg = SlidingAverage('value avg', steps=log_every)\n"
   ]
  },
  {
   "cell_type": "markdown",
   "metadata": {},
   "source": [
    "Finally, we run a bunch of episodes and wait for some results. The average final reward will help us track whether it's learning. This took about an hour on a 2.8GHz CPU to get some reasonable results."
   ]
  },
  {
   "cell_type": "code",
   "execution_count": 21,
   "metadata": {},
   "outputs": [
    {
     "ename": "IndexError",
     "evalue": "only integers, slices (`:`), ellipsis (`...`), numpy.newaxis (`None`) and integer or boolean arrays are valid indices",
     "output_type": "error",
     "traceback": [
      "\u001b[0;31m---------------------------------------------------------------------------\u001b[0m",
      "\u001b[0;31mIndexError\u001b[0m                                Traceback (most recent call last)",
      "\u001b[0;32m<ipython-input-21-545511d0925c>\u001b[0m in \u001b[0;36m<module>\u001b[0;34m()\u001b[0m\n\u001b[1;32m      2\u001b[0m \u001b[0;34m\u001b[0m\u001b[0m\n\u001b[1;32m      3\u001b[0m \u001b[0;32mwhile\u001b[0m \u001b[0mreward_avg\u001b[0m \u001b[0;34m<\u001b[0m \u001b[0;36m0.75\u001b[0m\u001b[0;34m:\u001b[0m\u001b[0;34m\u001b[0m\u001b[0m\n\u001b[0;32m----> 4\u001b[0;31m     \u001b[0mactions\u001b[0m\u001b[0;34m,\u001b[0m \u001b[0mvalues\u001b[0m\u001b[0;34m,\u001b[0m \u001b[0mrewards\u001b[0m \u001b[0;34m=\u001b[0m \u001b[0mrun_episode\u001b[0m\u001b[0;34m(\u001b[0m\u001b[0me\u001b[0m\u001b[0;34m)\u001b[0m\u001b[0;34m\u001b[0m\u001b[0m\n\u001b[0m\u001b[1;32m      5\u001b[0m     \u001b[0mfinal_reward\u001b[0m \u001b[0;34m=\u001b[0m \u001b[0mrewards\u001b[0m\u001b[0;34m[\u001b[0m\u001b[0;34m-\u001b[0m\u001b[0;36m1\u001b[0m\u001b[0;34m]\u001b[0m\u001b[0;34m\u001b[0m\u001b[0m\n\u001b[1;32m      6\u001b[0m \u001b[0;34m\u001b[0m\u001b[0m\n",
      "\u001b[0;32m<ipython-input-18-684ffc933767>\u001b[0m in \u001b[0;36mrun_episode\u001b[0;34m(e)\u001b[0m\n\u001b[1;32m      1\u001b[0m \u001b[0;32mdef\u001b[0m \u001b[0mrun_episode\u001b[0m\u001b[0;34m(\u001b[0m\u001b[0me\u001b[0m\u001b[0;34m)\u001b[0m\u001b[0;34m:\u001b[0m\u001b[0;34m\u001b[0m\u001b[0m\n\u001b[0;32m----> 2\u001b[0;31m     \u001b[0mstate\u001b[0m \u001b[0;34m=\u001b[0m \u001b[0menv\u001b[0m\u001b[0;34m.\u001b[0m\u001b[0mreset\u001b[0m\u001b[0;34m(\u001b[0m\u001b[0;34m)\u001b[0m\u001b[0;34m\u001b[0m\u001b[0m\n\u001b[0m\u001b[1;32m      3\u001b[0m     \u001b[0mactions\u001b[0m \u001b[0;34m=\u001b[0m \u001b[0;34m[\u001b[0m\u001b[0;34m]\u001b[0m\u001b[0;34m\u001b[0m\u001b[0m\n\u001b[1;32m      4\u001b[0m     \u001b[0mvalues\u001b[0m \u001b[0;34m=\u001b[0m \u001b[0;34m[\u001b[0m\u001b[0;34m]\u001b[0m\u001b[0;34m\u001b[0m\u001b[0m\n\u001b[1;32m      5\u001b[0m     \u001b[0mrewards\u001b[0m \u001b[0;34m=\u001b[0m \u001b[0;34m[\u001b[0m\u001b[0;34m]\u001b[0m\u001b[0;34m\u001b[0m\u001b[0m\n",
      "\u001b[0;32m<ipython-input-13-3521b671d455>\u001b[0m in \u001b[0;36mreset\u001b[0;34m(self)\u001b[0m\n\u001b[1;32m     13\u001b[0m         \u001b[0mself\u001b[0m\u001b[0;34m.\u001b[0m\u001b[0mt\u001b[0m \u001b[0;34m=\u001b[0m \u001b[0;36m0\u001b[0m\u001b[0;34m\u001b[0m\u001b[0m\n\u001b[1;32m     14\u001b[0m         \u001b[0mself\u001b[0m\u001b[0;34m.\u001b[0m\u001b[0mhistory\u001b[0m \u001b[0;34m=\u001b[0m \u001b[0;34m[\u001b[0m\u001b[0;34m]\u001b[0m\u001b[0;34m\u001b[0m\u001b[0m\n\u001b[0;32m---> 15\u001b[0;31m         \u001b[0mself\u001b[0m\u001b[0;34m.\u001b[0m\u001b[0mrecord_step\u001b[0m\u001b[0;34m(\u001b[0m\u001b[0;34m)\u001b[0m\u001b[0;34m\u001b[0m\u001b[0m\n\u001b[0m\u001b[1;32m     16\u001b[0m \u001b[0;34m\u001b[0m\u001b[0m\n\u001b[1;32m     17\u001b[0m         \u001b[0;32mreturn\u001b[0m \u001b[0mself\u001b[0m\u001b[0;34m.\u001b[0m\u001b[0mvisible_state\u001b[0m\u001b[0;34m\u001b[0m\u001b[0m\n",
      "\u001b[0;32m<ipython-input-13-3521b671d455>\u001b[0m in \u001b[0;36mrecord_step\u001b[0;34m(self)\u001b[0m\n\u001b[1;32m     20\u001b[0m         \u001b[0;34m\"\"\"Add the current state to history for display later\"\"\"\u001b[0m\u001b[0;34m\u001b[0m\u001b[0m\n\u001b[1;32m     21\u001b[0m         \u001b[0mgrid\u001b[0m \u001b[0;34m=\u001b[0m \u001b[0mnp\u001b[0m\u001b[0;34m.\u001b[0m\u001b[0marray\u001b[0m\u001b[0;34m(\u001b[0m\u001b[0mself\u001b[0m\u001b[0;34m.\u001b[0m\u001b[0mgrid\u001b[0m\u001b[0;34m.\u001b[0m\u001b[0mgrid\u001b[0m\u001b[0;34m)\u001b[0m\u001b[0;34m\u001b[0m\u001b[0m\n\u001b[0;32m---> 22\u001b[0;31m         \u001b[0mgrid\u001b[0m\u001b[0;34m[\u001b[0m\u001b[0mself\u001b[0m\u001b[0;34m.\u001b[0m\u001b[0magent\u001b[0m\u001b[0;34m.\u001b[0m\u001b[0mpos\u001b[0m\u001b[0;34m]\u001b[0m \u001b[0;34m=\u001b[0m \u001b[0mself\u001b[0m\u001b[0;34m.\u001b[0m\u001b[0magent\u001b[0m\u001b[0;34m.\u001b[0m\u001b[0mhealth\u001b[0m \u001b[0;34m*\u001b[0m \u001b[0;36m0.5\u001b[0m \u001b[0;31m# Agent marker faded by health\u001b[0m\u001b[0;34m\u001b[0m\u001b[0m\n\u001b[0m\u001b[1;32m     23\u001b[0m         \u001b[0mvisible\u001b[0m \u001b[0;34m=\u001b[0m \u001b[0mnp\u001b[0m\u001b[0;34m.\u001b[0m\u001b[0marray\u001b[0m\u001b[0;34m(\u001b[0m\u001b[0mself\u001b[0m\u001b[0;34m.\u001b[0m\u001b[0mgrid\u001b[0m\u001b[0;34m.\u001b[0m\u001b[0mvisible\u001b[0m\u001b[0;34m(\u001b[0m\u001b[0mself\u001b[0m\u001b[0;34m.\u001b[0m\u001b[0magent\u001b[0m\u001b[0;34m.\u001b[0m\u001b[0mpos\u001b[0m\u001b[0;34m)\u001b[0m\u001b[0;34m)\u001b[0m\u001b[0;34m\u001b[0m\u001b[0m\n\u001b[1;32m     24\u001b[0m         \u001b[0mself\u001b[0m\u001b[0;34m.\u001b[0m\u001b[0mhistory\u001b[0m\u001b[0;34m.\u001b[0m\u001b[0mappend\u001b[0m\u001b[0;34m(\u001b[0m\u001b[0;34m(\u001b[0m\u001b[0mgrid\u001b[0m\u001b[0;34m,\u001b[0m \u001b[0mvisible\u001b[0m\u001b[0;34m,\u001b[0m \u001b[0mself\u001b[0m\u001b[0;34m.\u001b[0m\u001b[0magent\u001b[0m\u001b[0;34m.\u001b[0m\u001b[0mhealth\u001b[0m\u001b[0;34m)\u001b[0m\u001b[0;34m)\u001b[0m\u001b[0;34m\u001b[0m\u001b[0m\n",
      "\u001b[0;31mIndexError\u001b[0m: only integers, slices (`:`), ellipsis (`...`), numpy.newaxis (`None`) and integer or boolean arrays are valid indices"
     ]
    }
   ],
   "source": [
    "e = 0\n",
    "\n",
    "while reward_avg < 0.75:\n",
    "    actions, values, rewards = run_episode(e)\n",
    "    final_reward = rewards[-1]\n",
    "    \n",
    "    discounted_rewards, value_loss = finish_episode(e, actions, values, rewards)\n",
    "    \n",
    "    reward_avg.add(final_reward)\n",
    "    value_avg.add(value_loss.data[0])\n",
    "    \n",
    "    if e % log_every == 0:\n",
    "        print('[epoch=%d]' % e, reward_avg, value_avg)\n",
    "    \n",
    "    if e > 0 and e % render_every == 0:\n",
    "        animate(env.history)\n",
    "    \n",
    "    e += 1"
   ]
  },
  {
   "cell_type": "code",
   "execution_count": 22,
   "metadata": {
    "scrolled": false
   },
   "outputs": [
    {
     "data": {
      "image/png": "[encoded data removed]",
      "text/plain": [
       "<matplotlib.figure.Figure at 0x7f2a1464dfd0>"
      ]
     },
     "metadata": {},
     "output_type": "display_data"
    },
    {
     "data": {
      "image/png": "[encoded data removed]",
      "text/plain": [
       "<matplotlib.figure.Figure at 0x7f2a64dd0210>"
      ]
     },
     "metadata": {},
     "output_type": "display_data"
    }
   ],
   "source": [
    "# Plot average reward and value loss\n",
    "plt.plot(np.array(reward_avg.avgs))\n",
    "plt.show()\n",
    "plt.plot(np.array(value_avg.avgs))\n",
    "plt.show()"
   ]
  },
  {
   "cell_type": "markdown",
   "metadata": {
    "collapsed": true
   },
   "source": [
    "As you can see from the shape of the rewards graph, training these kinds of networks is a rollercoaster of luck."
   ]
  },
  {
   "cell_type": "markdown",
   "metadata": {},
   "source": [
    "## Exercises\n",
    "\n",
    "* Uncomment the line in the Environment class that returns a reward every step - the agent tends learn a bit quicker because the effects of eating plants are more immediately rewarded.\n",
    "* Try with a bigger grid size, bigger visible area, bigger network, etc.\n",
    "* Try with a recurrent network - it will train slower (in clock time) but often reaches higher values in fewer episodes.\n",
    "* Observe the effects of different learning rates and gamma values."
   ]
  }
 ],
 "metadata": {
  "anaconda-cloud": {},
  "kernelspec": {
   "display_name": "Python 2",
   "language": "python",
   "name": "python2"
  },
  "language_info": {
   "codemirror_mode": {
    "name": "ipython",
    "version": 2
   },
   "file_extension": ".py",
   "mimetype": "text/x-python",
   "name": "python",
   "nbconvert_exporter": "python",
   "pygments_lexer": "ipython2",
   "version": "2.7.13"
  }
 },
 "nbformat": 4,
 "nbformat_minor": 1
}
